{
 "cells": [
  {
   "cell_type": "markdown",
   "metadata": {},
   "source": [
    "# Prediction\n",
    "\n",
    "## RandomForestClassifier Model will be more accurate\n",
    "\n",
    "### A RandomForestClassifier model does better in a data environment where the data may not fit the style of the LogisticRegression model"
   ]
  },
  {
   "cell_type": "code",
   "execution_count": 14,
   "metadata": {},
   "outputs": [],
   "source": [
    "import numpy as np\n",
    "import pandas as pd\n",
    "from pathlib import Path\n",
    "from sklearn.model_selection import train_test_split\n",
    "from sklearn.preprocessing import StandardScaler\n",
    "from matplotlib import pyplot as plt\n",
    "%matplotlib inline"
   ]
  },
  {
   "cell_type": "code",
   "execution_count": 15,
   "metadata": {},
   "outputs": [
    {
     "data": {
      "text/html": [
       "<div>\n",
       "<style scoped>\n",
       "    .dataframe tbody tr th:only-of-type {\n",
       "        vertical-align: middle;\n",
       "    }\n",
       "\n",
       "    .dataframe tbody tr th {\n",
       "        vertical-align: top;\n",
       "    }\n",
       "\n",
       "    .dataframe thead th {\n",
       "        text-align: right;\n",
       "    }\n",
       "</style>\n",
       "<table border=\"1\" class=\"dataframe\">\n",
       "  <thead>\n",
       "    <tr style=\"text-align: right;\">\n",
       "      <th></th>\n",
       "      <th>loan_size</th>\n",
       "      <th>interest_rate</th>\n",
       "      <th>borrower_income</th>\n",
       "      <th>debt_to_income</th>\n",
       "      <th>num_of_accounts</th>\n",
       "      <th>derogatory_marks</th>\n",
       "      <th>total_debt</th>\n",
       "      <th>loan_status</th>\n",
       "    </tr>\n",
       "  </thead>\n",
       "  <tbody>\n",
       "    <tr>\n",
       "      <th>0</th>\n",
       "      <td>10700.0</td>\n",
       "      <td>7.672</td>\n",
       "      <td>52800</td>\n",
       "      <td>0.431818</td>\n",
       "      <td>5</td>\n",
       "      <td>1</td>\n",
       "      <td>22800</td>\n",
       "      <td>0</td>\n",
       "    </tr>\n",
       "    <tr>\n",
       "      <th>1</th>\n",
       "      <td>8400.0</td>\n",
       "      <td>6.692</td>\n",
       "      <td>43600</td>\n",
       "      <td>0.311927</td>\n",
       "      <td>3</td>\n",
       "      <td>0</td>\n",
       "      <td>13600</td>\n",
       "      <td>0</td>\n",
       "    </tr>\n",
       "    <tr>\n",
       "      <th>2</th>\n",
       "      <td>9000.0</td>\n",
       "      <td>6.963</td>\n",
       "      <td>46100</td>\n",
       "      <td>0.349241</td>\n",
       "      <td>3</td>\n",
       "      <td>0</td>\n",
       "      <td>16100</td>\n",
       "      <td>0</td>\n",
       "    </tr>\n",
       "    <tr>\n",
       "      <th>3</th>\n",
       "      <td>10700.0</td>\n",
       "      <td>7.664</td>\n",
       "      <td>52700</td>\n",
       "      <td>0.430740</td>\n",
       "      <td>5</td>\n",
       "      <td>1</td>\n",
       "      <td>22700</td>\n",
       "      <td>0</td>\n",
       "    </tr>\n",
       "    <tr>\n",
       "      <th>4</th>\n",
       "      <td>10800.0</td>\n",
       "      <td>7.698</td>\n",
       "      <td>53000</td>\n",
       "      <td>0.433962</td>\n",
       "      <td>5</td>\n",
       "      <td>1</td>\n",
       "      <td>23000</td>\n",
       "      <td>0</td>\n",
       "    </tr>\n",
       "  </tbody>\n",
       "</table>\n",
       "</div>"
      ],
      "text/plain": [
       "   loan_size  interest_rate  borrower_income  debt_to_income  num_of_accounts  \\\n",
       "0    10700.0          7.672            52800        0.431818                5   \n",
       "1     8400.0          6.692            43600        0.311927                3   \n",
       "2     9000.0          6.963            46100        0.349241                3   \n",
       "3    10700.0          7.664            52700        0.430740                5   \n",
       "4    10800.0          7.698            53000        0.433962                5   \n",
       "\n",
       "   derogatory_marks  total_debt  loan_status  \n",
       "0                 1       22800            0  \n",
       "1                 0       13600            0  \n",
       "2                 0       16100            0  \n",
       "3                 1       22700            0  \n",
       "4                 1       23000            0  "
      ]
     },
     "execution_count": 15,
     "metadata": {},
     "output_type": "execute_result"
    }
   ],
   "source": [
    "# Import the data\n",
    "\n",
    "file_path = Path(\"Resources/lending_data.csv\")\n",
    "df = pd.read_csv(file_path)\n",
    "df.head()"
   ]
  },
  {
   "cell_type": "code",
   "execution_count": 19,
   "metadata": {},
   "outputs": [
    {
     "data": {
      "text/plain": [
       "0    75036\n",
       "1     2500\n",
       "Name: loan_status, dtype: int64"
      ]
     },
     "execution_count": 19,
     "metadata": {},
     "output_type": "execute_result"
    }
   ],
   "source": [
    "df[\"loan_status\"].value_counts()"
   ]
  },
  {
   "cell_type": "code",
   "execution_count": 20,
   "metadata": {},
   "outputs": [
    {
     "data": {
      "text/plain": [
       "loan_size           float64\n",
       "interest_rate       float64\n",
       "borrower_income       int64\n",
       "debt_to_income      float64\n",
       "num_of_accounts       int64\n",
       "derogatory_marks      int64\n",
       "total_debt            int64\n",
       "loan_status           int64\n",
       "dtype: object"
      ]
     },
     "execution_count": 20,
     "metadata": {},
     "output_type": "execute_result"
    }
   ],
   "source": [
    "df.dtypes"
   ]
  },
  {
   "cell_type": "code",
   "execution_count": 21,
   "metadata": {},
   "outputs": [
    {
     "data": {
      "text/plain": [
       "Index(['loan_size', 'interest_rate', 'borrower_income', 'debt_to_income',\n",
       "       'num_of_accounts', 'derogatory_marks', 'total_debt', 'loan_status'],\n",
       "      dtype='object')"
      ]
     },
     "execution_count": 21,
     "metadata": {},
     "output_type": "execute_result"
    }
   ],
   "source": [
    "df.columns"
   ]
  },
  {
   "cell_type": "code",
   "execution_count": 22,
   "metadata": {},
   "outputs": [
    {
     "data": {
      "text/html": [
       "<div>\n",
       "<style scoped>\n",
       "    .dataframe tbody tr th:only-of-type {\n",
       "        vertical-align: middle;\n",
       "    }\n",
       "\n",
       "    .dataframe tbody tr th {\n",
       "        vertical-align: top;\n",
       "    }\n",
       "\n",
       "    .dataframe thead th {\n",
       "        text-align: right;\n",
       "    }\n",
       "</style>\n",
       "<table border=\"1\" class=\"dataframe\">\n",
       "  <thead>\n",
       "    <tr style=\"text-align: right;\">\n",
       "      <th></th>\n",
       "      <th>loan_size</th>\n",
       "      <th>interest_rate</th>\n",
       "      <th>borrower_income</th>\n",
       "      <th>debt_to_income</th>\n",
       "      <th>num_of_accounts</th>\n",
       "      <th>derogatory_marks</th>\n",
       "      <th>total_debt</th>\n",
       "      <th>loan_status</th>\n",
       "    </tr>\n",
       "  </thead>\n",
       "  <tbody>\n",
       "    <tr>\n",
       "      <th>0</th>\n",
       "      <td>False</td>\n",
       "      <td>False</td>\n",
       "      <td>False</td>\n",
       "      <td>False</td>\n",
       "      <td>False</td>\n",
       "      <td>False</td>\n",
       "      <td>False</td>\n",
       "      <td>False</td>\n",
       "    </tr>\n",
       "    <tr>\n",
       "      <th>1</th>\n",
       "      <td>False</td>\n",
       "      <td>False</td>\n",
       "      <td>False</td>\n",
       "      <td>False</td>\n",
       "      <td>False</td>\n",
       "      <td>False</td>\n",
       "      <td>False</td>\n",
       "      <td>False</td>\n",
       "    </tr>\n",
       "    <tr>\n",
       "      <th>2</th>\n",
       "      <td>False</td>\n",
       "      <td>False</td>\n",
       "      <td>False</td>\n",
       "      <td>False</td>\n",
       "      <td>False</td>\n",
       "      <td>False</td>\n",
       "      <td>False</td>\n",
       "      <td>False</td>\n",
       "    </tr>\n",
       "    <tr>\n",
       "      <th>3</th>\n",
       "      <td>False</td>\n",
       "      <td>False</td>\n",
       "      <td>False</td>\n",
       "      <td>False</td>\n",
       "      <td>False</td>\n",
       "      <td>False</td>\n",
       "      <td>False</td>\n",
       "      <td>False</td>\n",
       "    </tr>\n",
       "    <tr>\n",
       "      <th>4</th>\n",
       "      <td>False</td>\n",
       "      <td>False</td>\n",
       "      <td>False</td>\n",
       "      <td>False</td>\n",
       "      <td>False</td>\n",
       "      <td>False</td>\n",
       "      <td>False</td>\n",
       "      <td>False</td>\n",
       "    </tr>\n",
       "    <tr>\n",
       "      <th>...</th>\n",
       "      <td>...</td>\n",
       "      <td>...</td>\n",
       "      <td>...</td>\n",
       "      <td>...</td>\n",
       "      <td>...</td>\n",
       "      <td>...</td>\n",
       "      <td>...</td>\n",
       "      <td>...</td>\n",
       "    </tr>\n",
       "    <tr>\n",
       "      <th>77531</th>\n",
       "      <td>False</td>\n",
       "      <td>False</td>\n",
       "      <td>False</td>\n",
       "      <td>False</td>\n",
       "      <td>False</td>\n",
       "      <td>False</td>\n",
       "      <td>False</td>\n",
       "      <td>False</td>\n",
       "    </tr>\n",
       "    <tr>\n",
       "      <th>77532</th>\n",
       "      <td>False</td>\n",
       "      <td>False</td>\n",
       "      <td>False</td>\n",
       "      <td>False</td>\n",
       "      <td>False</td>\n",
       "      <td>False</td>\n",
       "      <td>False</td>\n",
       "      <td>False</td>\n",
       "    </tr>\n",
       "    <tr>\n",
       "      <th>77533</th>\n",
       "      <td>False</td>\n",
       "      <td>False</td>\n",
       "      <td>False</td>\n",
       "      <td>False</td>\n",
       "      <td>False</td>\n",
       "      <td>False</td>\n",
       "      <td>False</td>\n",
       "      <td>False</td>\n",
       "    </tr>\n",
       "    <tr>\n",
       "      <th>77534</th>\n",
       "      <td>False</td>\n",
       "      <td>False</td>\n",
       "      <td>False</td>\n",
       "      <td>False</td>\n",
       "      <td>False</td>\n",
       "      <td>False</td>\n",
       "      <td>False</td>\n",
       "      <td>False</td>\n",
       "    </tr>\n",
       "    <tr>\n",
       "      <th>77535</th>\n",
       "      <td>False</td>\n",
       "      <td>False</td>\n",
       "      <td>False</td>\n",
       "      <td>False</td>\n",
       "      <td>False</td>\n",
       "      <td>False</td>\n",
       "      <td>False</td>\n",
       "      <td>False</td>\n",
       "    </tr>\n",
       "  </tbody>\n",
       "</table>\n",
       "<p>77536 rows × 8 columns</p>\n",
       "</div>"
      ],
      "text/plain": [
       "       loan_size  interest_rate  borrower_income  debt_to_income  \\\n",
       "0          False          False            False           False   \n",
       "1          False          False            False           False   \n",
       "2          False          False            False           False   \n",
       "3          False          False            False           False   \n",
       "4          False          False            False           False   \n",
       "...          ...            ...              ...             ...   \n",
       "77531      False          False            False           False   \n",
       "77532      False          False            False           False   \n",
       "77533      False          False            False           False   \n",
       "77534      False          False            False           False   \n",
       "77535      False          False            False           False   \n",
       "\n",
       "       num_of_accounts  derogatory_marks  total_debt  loan_status  \n",
       "0                False             False       False        False  \n",
       "1                False             False       False        False  \n",
       "2                False             False       False        False  \n",
       "3                False             False       False        False  \n",
       "4                False             False       False        False  \n",
       "...                ...               ...         ...          ...  \n",
       "77531            False             False       False        False  \n",
       "77532            False             False       False        False  \n",
       "77533            False             False       False        False  \n",
       "77534            False             False       False        False  \n",
       "77535            False             False       False        False  \n",
       "\n",
       "[77536 rows x 8 columns]"
      ]
     },
     "execution_count": 22,
     "metadata": {},
     "output_type": "execute_result"
    }
   ],
   "source": [
    "df.isnull()"
   ]
  },
  {
   "cell_type": "code",
   "execution_count": 24,
   "metadata": {},
   "outputs": [
    {
     "data": {
      "text/plain": [
       "loan_size  interest_rate  borrower_income  debt_to_income  num_of_accounts  derogatory_marks  total_debt  loan_status\n",
       "False      False          False            False           False            False             False       False          77536\n",
       "dtype: int64"
      ]
     },
     "execution_count": 24,
     "metadata": {},
     "output_type": "execute_result"
    }
   ],
   "source": [
    "df.isnull().value_counts()"
   ]
  },
  {
   "cell_type": "code",
   "execution_count": 29,
   "metadata": {},
   "outputs": [],
   "source": [
    "x = df.drop(\"loan_status\", axis=1)\n",
    "y = df[\"loan_status\"].values\n",
    "target_names = [\"low risk\", \"high risk\"]"
   ]
  },
  {
   "cell_type": "code",
   "execution_count": 30,
   "metadata": {},
   "outputs": [
    {
     "data": {
      "text/html": [
       "<div>\n",
       "<style scoped>\n",
       "    .dataframe tbody tr th:only-of-type {\n",
       "        vertical-align: middle;\n",
       "    }\n",
       "\n",
       "    .dataframe tbody tr th {\n",
       "        vertical-align: top;\n",
       "    }\n",
       "\n",
       "    .dataframe thead th {\n",
       "        text-align: right;\n",
       "    }\n",
       "</style>\n",
       "<table border=\"1\" class=\"dataframe\">\n",
       "  <thead>\n",
       "    <tr style=\"text-align: right;\">\n",
       "      <th></th>\n",
       "      <th>loan_size</th>\n",
       "      <th>interest_rate</th>\n",
       "      <th>borrower_income</th>\n",
       "      <th>debt_to_income</th>\n",
       "      <th>num_of_accounts</th>\n",
       "      <th>derogatory_marks</th>\n",
       "      <th>total_debt</th>\n",
       "    </tr>\n",
       "  </thead>\n",
       "  <tbody>\n",
       "    <tr>\n",
       "      <th>63243</th>\n",
       "      <td>8900.0</td>\n",
       "      <td>6.893</td>\n",
       "      <td>45500</td>\n",
       "      <td>0.340659</td>\n",
       "      <td>3</td>\n",
       "      <td>0</td>\n",
       "      <td>15500</td>\n",
       "    </tr>\n",
       "    <tr>\n",
       "      <th>36991</th>\n",
       "      <td>9000.0</td>\n",
       "      <td>6.932</td>\n",
       "      <td>45800</td>\n",
       "      <td>0.344978</td>\n",
       "      <td>3</td>\n",
       "      <td>0</td>\n",
       "      <td>15800</td>\n",
       "    </tr>\n",
       "    <tr>\n",
       "      <th>39985</th>\n",
       "      <td>8900.0</td>\n",
       "      <td>6.896</td>\n",
       "      <td>45500</td>\n",
       "      <td>0.340659</td>\n",
       "      <td>3</td>\n",
       "      <td>0</td>\n",
       "      <td>15500</td>\n",
       "    </tr>\n",
       "    <tr>\n",
       "      <th>63047</th>\n",
       "      <td>9000.0</td>\n",
       "      <td>6.961</td>\n",
       "      <td>46100</td>\n",
       "      <td>0.349241</td>\n",
       "      <td>3</td>\n",
       "      <td>0</td>\n",
       "      <td>16100</td>\n",
       "    </tr>\n",
       "    <tr>\n",
       "      <th>49913</th>\n",
       "      <td>8400.0</td>\n",
       "      <td>6.712</td>\n",
       "      <td>43800</td>\n",
       "      <td>0.315068</td>\n",
       "      <td>3</td>\n",
       "      <td>0</td>\n",
       "      <td>13800</td>\n",
       "    </tr>\n",
       "  </tbody>\n",
       "</table>\n",
       "</div>"
      ],
      "text/plain": [
       "       loan_size  interest_rate  borrower_income  debt_to_income  \\\n",
       "63243     8900.0          6.893            45500        0.340659   \n",
       "36991     9000.0          6.932            45800        0.344978   \n",
       "39985     8900.0          6.896            45500        0.340659   \n",
       "63047     9000.0          6.961            46100        0.349241   \n",
       "49913     8400.0          6.712            43800        0.315068   \n",
       "\n",
       "       num_of_accounts  derogatory_marks  total_debt  \n",
       "63243                3                 0       15500  \n",
       "36991                3                 0       15800  \n",
       "39985                3                 0       15500  \n",
       "63047                3                 0       16100  \n",
       "49913                3                 0       13800  "
      ]
     },
     "execution_count": 30,
     "metadata": {},
     "output_type": "execute_result"
    }
   ],
   "source": [
    "# Split the data into X_train, X_test, y_train, y_test\n",
    "\n",
    "X_train, X_test, y_train, y_test = train_test_split(X, y, random_state=42)\n",
    "\n",
    "X_train.head()"
   ]
  },
  {
   "cell_type": "markdown",
   "metadata": {},
   "source": [
    "# Train a Logistic Regression model print the model score"
   ]
  },
  {
   "cell_type": "code",
   "execution_count": 31,
   "metadata": {},
   "outputs": [
    {
     "data": {
      "text/plain": [
       "LogisticRegression()"
      ]
     },
     "execution_count": 31,
     "metadata": {},
     "output_type": "execute_result"
    }
   ],
   "source": [
    "from sklearn.linear_model import LogisticRegression\n",
    "model = LogisticRegression()\n",
    "model"
   ]
  },
  {
   "cell_type": "code",
   "execution_count": 32,
   "metadata": {},
   "outputs": [
    {
     "data": {
      "text/plain": [
       "{'C': [0.001, 0.01, 0.1, 1, 10, 100], 'tol': [1e-05, 0.0001, 0.001]}"
      ]
     },
     "execution_count": 32,
     "metadata": {},
     "output_type": "execute_result"
    }
   ],
   "source": [
    "param_grid = {\n",
    "    'C': [0.001, 0.01, 0.1, 1, 10, 100],\n",
    "    'tol': [0.00001, 0.0001, 0.001]\n",
    "}\n",
    "param_grid"
   ]
  },
  {
   "cell_type": "code",
   "execution_count": 33,
   "metadata": {},
   "outputs": [],
   "source": [
    "from sklearn.model_selection import GridSearchCV\n",
    "grid_clf = GridSearchCV(model, param_grid, verbose=3)"
   ]
  },
  {
   "cell_type": "code",
   "execution_count": 34,
   "metadata": {},
   "outputs": [
    {
     "name": "stdout",
     "output_type": "stream",
     "text": [
      "Fitting 5 folds for each of 18 candidates, totalling 90 fits\n",
      "[CV 1/5] END ................C=0.001, tol=1e-05;, score=0.994 total time=   0.1s\n",
      "[CV 2/5] END ................C=0.001, tol=1e-05;, score=0.991 total time=   0.1s\n",
      "[CV 3/5] END ................C=0.001, tol=1e-05;, score=0.990 total time=   0.0s\n",
      "[CV 4/5] END ................C=0.001, tol=1e-05;, score=0.992 total time=   0.0s\n",
      "[CV 5/5] END ................C=0.001, tol=1e-05;, score=0.992 total time=   0.0s\n",
      "[CV 1/5] END ...............C=0.001, tol=0.0001;, score=0.994 total time=   0.0s\n",
      "[CV 2/5] END ...............C=0.001, tol=0.0001;, score=0.991 total time=   0.0s\n",
      "[CV 3/5] END ...............C=0.001, tol=0.0001;, score=0.990 total time=   0.0s\n",
      "[CV 4/5] END ...............C=0.001, tol=0.0001;, score=0.992 total time=   0.0s\n",
      "[CV 5/5] END ...............C=0.001, tol=0.0001;, score=0.992 total time=   0.1s\n",
      "[CV 1/5] END ................C=0.001, tol=0.001;, score=0.994 total time=   0.0s\n",
      "[CV 2/5] END ................C=0.001, tol=0.001;, score=0.991 total time=   0.1s\n",
      "[CV 3/5] END ................C=0.001, tol=0.001;, score=0.990 total time=   0.1s\n",
      "[CV 4/5] END ................C=0.001, tol=0.001;, score=0.992 total time=   0.0s\n",
      "[CV 5/5] END ................C=0.001, tol=0.001;, score=0.992 total time=   0.1s\n",
      "[CV 1/5] END .................C=0.01, tol=1e-05;, score=0.994 total time=   0.0s\n",
      "[CV 2/5] END .................C=0.01, tol=1e-05;, score=0.991 total time=   0.1s\n",
      "[CV 3/5] END .................C=0.01, tol=1e-05;, score=0.990 total time=   0.0s\n",
      "[CV 4/5] END .................C=0.01, tol=1e-05;, score=0.992 total time=   0.0s\n",
      "[CV 5/5] END .................C=0.01, tol=1e-05;, score=0.992 total time=   0.1s\n",
      "[CV 1/5] END ................C=0.01, tol=0.0001;, score=0.994 total time=   0.1s\n",
      "[CV 2/5] END ................C=0.01, tol=0.0001;, score=0.991 total time=   0.1s\n",
      "[CV 3/5] END ................C=0.01, tol=0.0001;, score=0.990 total time=   0.1s\n",
      "[CV 4/5] END ................C=0.01, tol=0.0001;, score=0.992 total time=   0.1s\n",
      "[CV 5/5] END ................C=0.01, tol=0.0001;, score=0.992 total time=   0.1s\n",
      "[CV 1/5] END .................C=0.01, tol=0.001;, score=0.994 total time=   0.0s\n",
      "[CV 2/5] END .................C=0.01, tol=0.001;, score=0.991 total time=   0.1s\n",
      "[CV 3/5] END .................C=0.01, tol=0.001;, score=0.990 total time=   0.1s\n",
      "[CV 4/5] END .................C=0.01, tol=0.001;, score=0.992 total time=   0.0s\n",
      "[CV 5/5] END .................C=0.01, tol=0.001;, score=0.992 total time=   0.1s\n",
      "[CV 1/5] END ..................C=0.1, tol=1e-05;, score=0.994 total time=   0.0s\n",
      "[CV 2/5] END ..................C=0.1, tol=1e-05;, score=0.991 total time=   0.1s\n",
      "[CV 3/5] END ..................C=0.1, tol=1e-05;, score=0.990 total time=   0.0s\n",
      "[CV 4/5] END ..................C=0.1, tol=1e-05;, score=0.992 total time=   0.1s\n",
      "[CV 5/5] END ..................C=0.1, tol=1e-05;, score=0.992 total time=   0.1s\n",
      "[CV 1/5] END .................C=0.1, tol=0.0001;, score=0.994 total time=   0.0s\n",
      "[CV 2/5] END .................C=0.1, tol=0.0001;, score=0.991 total time=   0.1s\n",
      "[CV 3/5] END .................C=0.1, tol=0.0001;, score=0.990 total time=   0.0s\n",
      "[CV 4/5] END .................C=0.1, tol=0.0001;, score=0.992 total time=   0.0s\n",
      "[CV 5/5] END .................C=0.1, tol=0.0001;, score=0.992 total time=   0.0s\n",
      "[CV 1/5] END ..................C=0.1, tol=0.001;, score=0.994 total time=   0.1s\n",
      "[CV 2/5] END ..................C=0.1, tol=0.001;, score=0.991 total time=   0.1s\n",
      "[CV 3/5] END ..................C=0.1, tol=0.001;, score=0.990 total time=   0.1s\n",
      "[CV 4/5] END ..................C=0.1, tol=0.001;, score=0.992 total time=   0.0s\n",
      "[CV 5/5] END ..................C=0.1, tol=0.001;, score=0.992 total time=   0.1s\n",
      "[CV 1/5] END ....................C=1, tol=1e-05;, score=0.994 total time=   0.0s\n",
      "[CV 2/5] END ....................C=1, tol=1e-05;, score=0.991 total time=   0.0s\n",
      "[CV 3/5] END ....................C=1, tol=1e-05;, score=0.990 total time=   0.0s\n",
      "[CV 4/5] END ....................C=1, tol=1e-05;, score=0.992 total time=   0.1s\n",
      "[CV 5/5] END ....................C=1, tol=1e-05;, score=0.992 total time=   0.0s\n",
      "[CV 1/5] END ...................C=1, tol=0.0001;, score=0.994 total time=   0.1s\n",
      "[CV 2/5] END ...................C=1, tol=0.0001;, score=0.991 total time=   0.1s\n",
      "[CV 3/5] END ...................C=1, tol=0.0001;, score=0.990 total time=   0.0s\n",
      "[CV 4/5] END ...................C=1, tol=0.0001;, score=0.992 total time=   0.0s\n",
      "[CV 5/5] END ...................C=1, tol=0.0001;, score=0.992 total time=   0.0s\n",
      "[CV 1/5] END ....................C=1, tol=0.001;, score=0.994 total time=   0.1s\n",
      "[CV 2/5] END ....................C=1, tol=0.001;, score=0.991 total time=   0.0s\n",
      "[CV 3/5] END ....................C=1, tol=0.001;, score=0.990 total time=   0.1s\n",
      "[CV 4/5] END ....................C=1, tol=0.001;, score=0.992 total time=   0.0s\n",
      "[CV 5/5] END ....................C=1, tol=0.001;, score=0.992 total time=   0.0s\n",
      "[CV 1/5] END ...................C=10, tol=1e-05;, score=0.994 total time=   0.0s\n",
      "[CV 2/5] END ...................C=10, tol=1e-05;, score=0.991 total time=   0.1s\n",
      "[CV 3/5] END ...................C=10, tol=1e-05;, score=0.990 total time=   0.1s\n",
      "[CV 4/5] END ...................C=10, tol=1e-05;, score=0.992 total time=   0.1s\n",
      "[CV 5/5] END ...................C=10, tol=1e-05;, score=0.992 total time=   0.1s\n",
      "[CV 1/5] END ..................C=10, tol=0.0001;, score=0.994 total time=   0.0s\n",
      "[CV 2/5] END ..................C=10, tol=0.0001;, score=0.991 total time=   0.1s\n",
      "[CV 3/5] END ..................C=10, tol=0.0001;, score=0.990 total time=   0.0s\n",
      "[CV 4/5] END ..................C=10, tol=0.0001;, score=0.992 total time=   0.0s\n",
      "[CV 5/5] END ..................C=10, tol=0.0001;, score=0.992 total time=   0.0s\n",
      "[CV 1/5] END ...................C=10, tol=0.001;, score=0.994 total time=   0.0s\n",
      "[CV 2/5] END ...................C=10, tol=0.001;, score=0.991 total time=   0.1s\n",
      "[CV 3/5] END ...................C=10, tol=0.001;, score=0.990 total time=   0.0s\n",
      "[CV 4/5] END ...................C=10, tol=0.001;, score=0.992 total time=   0.0s\n",
      "[CV 5/5] END ...................C=10, tol=0.001;, score=0.992 total time=   0.1s\n",
      "[CV 1/5] END ..................C=100, tol=1e-05;, score=0.994 total time=   0.0s\n",
      "[CV 2/5] END ..................C=100, tol=1e-05;, score=0.991 total time=   0.0s\n",
      "[CV 3/5] END ..................C=100, tol=1e-05;, score=0.990 total time=   0.1s\n",
      "[CV 4/5] END ..................C=100, tol=1e-05;, score=0.992 total time=   0.0s\n",
      "[CV 5/5] END ..................C=100, tol=1e-05;, score=0.992 total time=   0.1s\n",
      "[CV 1/5] END .................C=100, tol=0.0001;, score=0.994 total time=   0.0s\n",
      "[CV 2/5] END .................C=100, tol=0.0001;, score=0.991 total time=   0.1s\n",
      "[CV 3/5] END .................C=100, tol=0.0001;, score=0.990 total time=   0.0s\n",
      "[CV 4/5] END .................C=100, tol=0.0001;, score=0.992 total time=   0.0s\n",
      "[CV 5/5] END .................C=100, tol=0.0001;, score=0.992 total time=   0.1s\n",
      "[CV 1/5] END ..................C=100, tol=0.001;, score=0.994 total time=   0.1s\n",
      "[CV 2/5] END ..................C=100, tol=0.001;, score=0.991 total time=   0.1s\n",
      "[CV 3/5] END ..................C=100, tol=0.001;, score=0.990 total time=   0.0s\n",
      "[CV 4/5] END ..................C=100, tol=0.001;, score=0.992 total time=   0.0s\n",
      "[CV 5/5] END ..................C=100, tol=0.001;, score=0.992 total time=   0.0s\n"
     ]
    },
    {
     "data": {
      "text/plain": [
       "GridSearchCV(estimator=LogisticRegression(),\n",
       "             param_grid={'C': [0.001, 0.01, 0.1, 1, 10, 100],\n",
       "                         'tol': [1e-05, 0.0001, 0.001]},\n",
       "             verbose=3)"
      ]
     },
     "execution_count": 34,
     "metadata": {},
     "output_type": "execute_result"
    }
   ],
   "source": [
    "grid_clf.fit(X_train, y_train)"
   ]
  },
  {
   "cell_type": "code",
   "execution_count": 35,
   "metadata": {},
   "outputs": [
    {
     "name": "stdout",
     "output_type": "stream",
     "text": [
      "{'C': 0.001, 'tol': 1e-05}\n"
     ]
    }
   ],
   "source": [
    "print(grid_clf.best_params_)"
   ]
  },
  {
   "cell_type": "code",
   "execution_count": 36,
   "metadata": {},
   "outputs": [
    {
     "name": "stdout",
     "output_type": "stream",
     "text": [
      "0.99186611845342\n"
     ]
    }
   ],
   "source": [
    "print(grid_clf.best_score_)"
   ]
  },
  {
   "cell_type": "code",
   "execution_count": 37,
   "metadata": {},
   "outputs": [
    {
     "data": {
      "text/plain": [
       "array([0, 0, 0, ..., 0, 0, 0], dtype=int64)"
      ]
     },
     "execution_count": 37,
     "metadata": {},
     "output_type": "execute_result"
    }
   ],
   "source": [
    "predictions = grid_clf.predict(X_test)\n",
    "predictions"
   ]
  },
  {
   "cell_type": "code",
   "execution_count": 38,
   "metadata": {},
   "outputs": [
    {
     "data": {
      "text/plain": [
       "0.9924680148576145"
      ]
     },
     "execution_count": 38,
     "metadata": {},
     "output_type": "execute_result"
    }
   ],
   "source": [
    "grid_clf.score(X_test, y_test)"
   ]
  },
  {
   "cell_type": "code",
   "execution_count": 39,
   "metadata": {},
   "outputs": [
    {
     "name": "stdout",
     "output_type": "stream",
     "text": [
      "              precision    recall  f1-score   support\n",
      "\n",
      "    low risk       1.00      1.00      1.00     18792\n",
      "   high risk       0.85      0.91      0.88       592\n",
      "\n",
      "    accuracy                           0.99     19384\n",
      "   macro avg       0.93      0.95      0.94     19384\n",
      "weighted avg       0.99      0.99      0.99     19384\n",
      "\n"
     ]
    }
   ],
   "source": [
    "from sklearn.metrics import classification_report\n",
    "print(classification_report(y_test, predictions,\n",
    "                            target_names=target_names))"
   ]
  },
  {
   "cell_type": "code",
   "execution_count": 40,
   "metadata": {},
   "outputs": [
    {
     "data": {
      "text/plain": [
       "LogisticRegression()"
      ]
     },
     "execution_count": 40,
     "metadata": {},
     "output_type": "execute_result"
    }
   ],
   "source": [
    "from sklearn.linear_model import LogisticRegression\n",
    "classifier = LogisticRegression()\n",
    "classifier"
   ]
  },
  {
   "cell_type": "code",
   "execution_count": 41,
   "metadata": {},
   "outputs": [
    {
     "data": {
      "text/plain": [
       "LogisticRegression()"
      ]
     },
     "execution_count": 41,
     "metadata": {},
     "output_type": "execute_result"
    }
   ],
   "source": [
    "classifier.fit(X_train, y_train)"
   ]
  },
  {
   "cell_type": "code",
   "execution_count": 42,
   "metadata": {},
   "outputs": [
    {
     "name": "stdout",
     "output_type": "stream",
     "text": [
      "Training Data Score: 0.9919177328380795\n",
      "Testing Data Score: 0.9924680148576145\n"
     ]
    }
   ],
   "source": [
    "print(f\"Training Data Score: {classifier.score(X_train, y_train)}\")\n",
    "print(f\"Testing Data Score: {classifier.score(X_test, y_test)}\")"
   ]
  },
  {
   "cell_type": "code",
   "execution_count": 43,
   "metadata": {},
   "outputs": [
    {
     "name": "stdout",
     "output_type": "stream",
     "text": [
      "Actual:\t\t[0, 0, 0, 0, 0, 0, 0, 0, 1, 0]\n",
      "Predicted:\t[0, 0, 0, 0, 0, 0, 0, 0, 1, 0]\n"
     ]
    }
   ],
   "source": [
    "print(f'Actual:\\t\\t{list(y_test[:10])}')\n",
    "print(f'Predicted:\\t{list(classifier.predict(X_test[:10]))}')"
   ]
  },
  {
   "cell_type": "code",
   "execution_count": 44,
   "metadata": {},
   "outputs": [
    {
     "data": {
      "text/plain": [
       "Prediction  Actual\n",
       "0           0         18699\n",
       "1           1           539\n",
       "            0            93\n",
       "0           1            53\n",
       "dtype: int64"
      ]
     },
     "execution_count": 44,
     "metadata": {},
     "output_type": "execute_result"
    }
   ],
   "source": [
    "predictions = classifier.predict(X_test)\n",
    "prediction=pd.DataFrame({\"Prediction\": predictions, \"Actual\": y_test})\n",
    "prediction.value_counts()"
   ]
  },
  {
   "cell_type": "code",
   "execution_count": 45,
   "metadata": {},
   "outputs": [
    {
     "data": {
      "text/plain": [
       "array([[18699,    93],\n",
       "       [   53,   539]], dtype=int64)"
      ]
     },
     "execution_count": 45,
     "metadata": {},
     "output_type": "execute_result"
    }
   ],
   "source": [
    "from sklearn.metrics import confusion_matrix\n",
    "\n",
    "y_true = y_test\n",
    "y_pred = classifier.predict(X_test)\n",
    "confusion_matrix(y_true, y_pred)"
   ]
  },
  {
   "cell_type": "code",
   "execution_count": 46,
   "metadata": {},
   "outputs": [
    {
     "data": {
      "text/plain": [
       "array([[74657,   379],\n",
       "       [  237,  2263]], dtype=int64)"
      ]
     },
     "execution_count": 46,
     "metadata": {},
     "output_type": "execute_result"
    }
   ],
   "source": [
    "confusion_matrix(y, classifier.predict(X))"
   ]
  },
  {
   "cell_type": "code",
   "execution_count": 47,
   "metadata": {},
   "outputs": [
    {
     "name": "stdout",
     "output_type": "stream",
     "text": [
      "              precision    recall  f1-score   support\n",
      "\n",
      "           0       1.00      1.00      1.00     18792\n",
      "           1       0.85      0.91      0.88       592\n",
      "\n",
      "    accuracy                           0.99     19384\n",
      "   macro avg       0.93      0.95      0.94     19384\n",
      "weighted avg       0.99      0.99      0.99     19384\n",
      "\n"
     ]
    }
   ],
   "source": [
    "from sklearn.metrics import classification_report\n",
    "print(classification_report(y_true,y_pred))"
   ]
  },
  {
   "cell_type": "code",
   "execution_count": 49,
   "metadata": {},
   "outputs": [],
   "source": [
    "scaler = StandardScaler().fit(X_train)\n",
    "X_train_scaled = scaler.transform(X_train)\n",
    "X_test_scaled = scaler.transform(X_test)"
   ]
  },
  {
   "cell_type": "code",
   "execution_count": 50,
   "metadata": {},
   "outputs": [
    {
     "name": "stdout",
     "output_type": "stream",
     "text": [
      "Training Score: 0.9941188609162196\n",
      "Testing Score: 0.9941704498555509\n"
     ]
    }
   ],
   "source": [
    "clf = LogisticRegression().fit(X_train_scaled, y_train)\n",
    "scaler = StandardScaler().fit(X_train)\n",
    "X_train_scaled = scaler.transform(X_train)\n",
    "X_test_scaled = scaler.transform(X_test)\n",
    "print(f'Training Score: {clf.score(X_train_scaled, y_train)}')\n",
    "print(f'Testing Score: {clf.score(X_test_scaled, y_test)}')"
   ]
  },
  {
   "cell_type": "markdown",
   "metadata": {},
   "source": [
    "# Train a Random Forest Classifier model and print the model score"
   ]
  },
  {
   "cell_type": "code",
   "execution_count": 51,
   "metadata": {},
   "outputs": [
    {
     "name": "stdout",
     "output_type": "stream",
     "text": [
      "Training Score: 0.9971970009629936\n",
      "Testing Score: 0.991900536524969\n"
     ]
    }
   ],
   "source": [
    "from sklearn.ensemble import RandomForestClassifier\n",
    "clf2 = RandomForestClassifier(random_state=1, n_estimators=500).fit(X_train_scaled, y_train)\n",
    "print(f'Training Score: {clf2.score(X_train_scaled, y_train)}')\n",
    "print(f'Testing Score: {clf2.score(X_test_scaled, y_test)}')"
   ]
  },
  {
   "cell_type": "markdown",
   "metadata": {},
   "source": [
    "# Results/Findings\n",
    "\n",
    "### For this dataset bot the LogisticRegression model and the RandomForestClassifier models show testing scores in the 99% range of the testing data. \n",
    "\n",
    "### Although the margin is very small, the RandomForestClassifier model testing score of 0.9971970009629936 does show a higher value compared to the 0.9924680148576145 score of the LogisticRegresion model.\n",
    "\n",
    "### This makes it appear that the RandomForestClassifier model is the better of the two models for this dataset but with the difference in scores being so close to each other either model can work for this dataset."
   ]
  },
  {
   "cell_type": "code",
   "execution_count": null,
   "metadata": {},
   "outputs": [],
   "source": []
  }
 ],
 "metadata": {
  "kernelspec": {
   "display_name": "Python 3 (ipykernel)",
   "language": "python",
   "name": "python3"
  },
  "language_info": {
   "codemirror_mode": {
    "name": "ipython",
    "version": 3
   },
   "file_extension": ".py",
   "mimetype": "text/x-python",
   "name": "python",
   "nbconvert_exporter": "python",
   "pygments_lexer": "ipython3",
   "version": "3.8.13"
  }
 },
 "nbformat": 4,
 "nbformat_minor": 4
}
